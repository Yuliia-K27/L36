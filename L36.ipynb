{
 "cells": [
  {
   "cell_type": "markdown",
   "id": "cb8bb3ee-b417-4f44-94d4-30cac4ca7b75",
   "metadata": {},
   "source": [
    "Провести крос-валідацію для моделі, побудованої на основі датафрейму student_scores з попереднього завдання.\n",
    "Обгрунтувати обраний метод крос-валідації."
   ]
  },
  {
   "cell_type": "code",
   "execution_count": 11,
   "id": "dd7053f8-84b6-4492-9f37-4cd7f84010c6",
   "metadata": {},
   "outputs": [
    {
     "data": {
      "text/html": [
       "<div>\n",
       "<style scoped>\n",
       "    .dataframe tbody tr th:only-of-type {\n",
       "        vertical-align: middle;\n",
       "    }\n",
       "\n",
       "    .dataframe tbody tr th {\n",
       "        vertical-align: top;\n",
       "    }\n",
       "\n",
       "    .dataframe thead th {\n",
       "        text-align: right;\n",
       "    }\n",
       "</style>\n",
       "<table border=\"1\" class=\"dataframe\">\n",
       "  <thead>\n",
       "    <tr style=\"text-align: right;\">\n",
       "      <th></th>\n",
       "      <th>hours</th>\n",
       "      <th>scores</th>\n",
       "    </tr>\n",
       "  </thead>\n",
       "  <tbody>\n",
       "    <tr>\n",
       "      <th>0</th>\n",
       "      <td>2.5</td>\n",
       "      <td>21</td>\n",
       "    </tr>\n",
       "    <tr>\n",
       "      <th>1</th>\n",
       "      <td>5.1</td>\n",
       "      <td>47</td>\n",
       "    </tr>\n",
       "    <tr>\n",
       "      <th>2</th>\n",
       "      <td>3.2</td>\n",
       "      <td>27</td>\n",
       "    </tr>\n",
       "    <tr>\n",
       "      <th>3</th>\n",
       "      <td>8.5</td>\n",
       "      <td>75</td>\n",
       "    </tr>\n",
       "    <tr>\n",
       "      <th>4</th>\n",
       "      <td>3.5</td>\n",
       "      <td>30</td>\n",
       "    </tr>\n",
       "    <tr>\n",
       "      <th>5</th>\n",
       "      <td>1.5</td>\n",
       "      <td>20</td>\n",
       "    </tr>\n",
       "    <tr>\n",
       "      <th>6</th>\n",
       "      <td>9.2</td>\n",
       "      <td>88</td>\n",
       "    </tr>\n",
       "    <tr>\n",
       "      <th>7</th>\n",
       "      <td>5.5</td>\n",
       "      <td>60</td>\n",
       "    </tr>\n",
       "    <tr>\n",
       "      <th>8</th>\n",
       "      <td>8.3</td>\n",
       "      <td>81</td>\n",
       "    </tr>\n",
       "    <tr>\n",
       "      <th>9</th>\n",
       "      <td>2.7</td>\n",
       "      <td>25</td>\n",
       "    </tr>\n",
       "    <tr>\n",
       "      <th>10</th>\n",
       "      <td>7.7</td>\n",
       "      <td>85</td>\n",
       "    </tr>\n",
       "    <tr>\n",
       "      <th>11</th>\n",
       "      <td>5.9</td>\n",
       "      <td>62</td>\n",
       "    </tr>\n",
       "    <tr>\n",
       "      <th>12</th>\n",
       "      <td>4.5</td>\n",
       "      <td>41</td>\n",
       "    </tr>\n",
       "    <tr>\n",
       "      <th>13</th>\n",
       "      <td>3.3</td>\n",
       "      <td>42</td>\n",
       "    </tr>\n",
       "    <tr>\n",
       "      <th>14</th>\n",
       "      <td>1.1</td>\n",
       "      <td>17</td>\n",
       "    </tr>\n",
       "    <tr>\n",
       "      <th>15</th>\n",
       "      <td>8.9</td>\n",
       "      <td>95</td>\n",
       "    </tr>\n",
       "    <tr>\n",
       "      <th>16</th>\n",
       "      <td>2.5</td>\n",
       "      <td>30</td>\n",
       "    </tr>\n",
       "    <tr>\n",
       "      <th>17</th>\n",
       "      <td>1.9</td>\n",
       "      <td>24</td>\n",
       "    </tr>\n",
       "    <tr>\n",
       "      <th>18</th>\n",
       "      <td>6.1</td>\n",
       "      <td>67</td>\n",
       "    </tr>\n",
       "    <tr>\n",
       "      <th>19</th>\n",
       "      <td>7.4</td>\n",
       "      <td>69</td>\n",
       "    </tr>\n",
       "    <tr>\n",
       "      <th>20</th>\n",
       "      <td>2.7</td>\n",
       "      <td>30</td>\n",
       "    </tr>\n",
       "    <tr>\n",
       "      <th>21</th>\n",
       "      <td>4.8</td>\n",
       "      <td>54</td>\n",
       "    </tr>\n",
       "    <tr>\n",
       "      <th>22</th>\n",
       "      <td>3.8</td>\n",
       "      <td>35</td>\n",
       "    </tr>\n",
       "    <tr>\n",
       "      <th>23</th>\n",
       "      <td>6.9</td>\n",
       "      <td>76</td>\n",
       "    </tr>\n",
       "    <tr>\n",
       "      <th>24</th>\n",
       "      <td>7.8</td>\n",
       "      <td>86</td>\n",
       "    </tr>\n",
       "  </tbody>\n",
       "</table>\n",
       "</div>"
      ],
      "text/plain": [
       "    hours  scores\n",
       "0     2.5      21\n",
       "1     5.1      47\n",
       "2     3.2      27\n",
       "3     8.5      75\n",
       "4     3.5      30\n",
       "5     1.5      20\n",
       "6     9.2      88\n",
       "7     5.5      60\n",
       "8     8.3      81\n",
       "9     2.7      25\n",
       "10    7.7      85\n",
       "11    5.9      62\n",
       "12    4.5      41\n",
       "13    3.3      42\n",
       "14    1.1      17\n",
       "15    8.9      95\n",
       "16    2.5      30\n",
       "17    1.9      24\n",
       "18    6.1      67\n",
       "19    7.4      69\n",
       "20    2.7      30\n",
       "21    4.8      54\n",
       "22    3.8      35\n",
       "23    6.9      76\n",
       "24    7.8      86"
      ]
     },
     "execution_count": 11,
     "metadata": {},
     "output_type": "execute_result"
    }
   ],
   "source": [
    "import pandas as pd\n",
    "\n",
    "# Завантаження даних з файлу\n",
    "df = pd.read_csv('student_scores.csv')\n",
    "\n",
    "df.columns = ['hours', 'scores']  # присвоєння імен ознакам\n",
    "\n",
    "df"
   ]
  },
  {
   "cell_type": "code",
   "execution_count": 12,
   "id": "58d1bebc-440c-45b4-bcd7-9ab53479daa0",
   "metadata": {},
   "outputs": [
    {
     "name": "stdout",
     "output_type": "stream",
     "text": [
      "Predictions: [[16.88414476]\n",
      " [33.73226078]\n",
      " [75.357018  ]\n",
      " [26.79480124]\n",
      " [60.49103328]]\n",
      "R2 scores: 0.9454906892105356\n",
      "Mean squared error: 21.5987693072174\n",
      "(20, 1)\n",
      "(5, 1)\n",
      "(20, 1)\n",
      "(5, 1)\n"
     ]
    }
   ],
   "source": [
    "import numpy as np\n",
    "from sklearn.model_selection import train_test_split\n",
    "from sklearn.linear_model import LinearRegression\n",
    "from sklearn.metrics import r2_score, mean_squared_error\n",
    "\n",
    "# розділяємо дані на залежну (y) та незалежну (x) змінні\n",
    "x = df['hours']\n",
    "x_array = np.array(x).reshape(-1, 1)\n",
    "\n",
    "y = df['scores']\n",
    "y_array = np.array(y).reshape(-1, 1)\n",
    "\n",
    "# розділяємо дані на тренувальну та тестову вибірки\n",
    "x_train, x_test, y_train, y_test = train_test_split(x_array, y_array, test_size=0.2, random_state=0)\n",
    "\n",
    "# створюємо модель лінійної регресії\n",
    "model = LinearRegression()\n",
    "\n",
    "# навчаємо модель на тренувальних даних\n",
    "model.fit(x_train, y_train, sample_weight=None)\n",
    "\n",
    "# зробимо передбачення на тестових даних\n",
    "y_pred = model.predict(x_test)\n",
    "\n",
    "# виведення результату фітингу моделі лінійної регресії на тестових даних\n",
    "print('Predictions:', y_pred)\n",
    "\n",
    "# оцінюємо якість моделі за допомогою метрик R2 та MSE\n",
    "r2 = r2_score(y_test, y_pred)\n",
    "mse = mean_squared_error(y_test, y_pred)\n",
    "\n",
    "print('R2 scores:', r2)\n",
    "print('Mean squared error:', mse)\n",
    "print(x_train.shape)\n",
    "print(x_test.shape)\n",
    "print(y_train.shape)\n",
    "print(y_test.shape)"
   ]
  },
  {
   "cell_type": "markdown",
   "id": "b89f6651-a2ad-4806-8ff0-09896dd7a5cb",
   "metadata": {},
   "source": [
    "Значення R2, в діапазоні від 0 до 1, де значення 1 означає ідеальну прогнозуючу здатність моделі, а значення 0 означає, що модель не може пояснити варіацію відповідної залежної змінної.\n",
    "MSE вимірює середньоквадратичну помилку передбачень моделі. Чим менше значення MSE, тим краще модель."
   ]
  },
  {
   "cell_type": "code",
   "execution_count": 13,
   "id": "793f3d8a-3174-45ab-b5b3-101f5d7ba35f",
   "metadata": {},
   "outputs": [
    {
     "data": {
      "image/png": "[encoded data removed]",
      "text/plain": [
       "<Figure size 640x480 with 1 Axes>"
      ]
     },
     "metadata": {},
     "output_type": "display_data"
    }
   ],
   "source": [
    "import matplotlib.pyplot as plt\n",
    "\n",
    "plt.scatter(x, y)\n",
    "plt.plot(x_array, y_array, 'r^')\n",
    "plt.xlabel('hours')\n",
    "plt.ylabel('scores')\n",
    "plt.show()"
   ]
  },
  {
   "cell_type": "code",
   "execution_count": 14,
   "id": "e5505aaf-4608-4fcd-8222-6dd7c0383117",
   "metadata": {},
   "outputs": [
    {
     "data": {
      "image/png": "[encoded data removed]",
      "text/plain": [
       "<Figure size 640x480 with 1 Axes>"
      ]
     },
     "metadata": {},
     "output_type": "display_data"
    }
   ],
   "source": [
    "# побудова графіку\n",
    "LinReg = LinearRegression().fit(df[['hours']], df['scores'])\n",
    "b, m = LinReg.intercept_, LinReg.coef_\n",
    "m = m[0]\n",
    "\n",
    "plt.scatter(df.hours, df.scores, color='blue')\n",
    "plt.plot(list(range(1, 10)), [m * x + b for x in range(1, 10)], color='black')\n",
    "plt.xlabel('hours')\n",
    "plt.ylabel('scores')\n",
    "plt.show()"
   ]
  },
  {
   "cell_type": "code",
   "execution_count": 15,
   "id": "474219fa-a3d7-42c2-8adb-bdc442c6dc36",
   "metadata": {},
   "outputs": [
    {
     "name": "stdout",
     "output_type": "stream",
     "text": [
      "R2 scores: [0.78626426 0.97891923 0.93182467 0.96604831 0.9273292 ]\n",
      "Mean R2 score: 0.9180771341891049\n"
     ]
    }
   ],
   "source": [
    "from sklearn.model_selection import cross_val_score\n",
    "from sklearn.linear_model import LinearRegression\n",
    "\n",
    "# створюємо модель лінійної регресії\n",
    "model = LinearRegression()\n",
    "\n",
    "# оцінюємо якість моделі за допомогою 5-fold крос-валідації\n",
    "scores = cross_val_score(model, x_array, y_array, cv=5, scoring='r2')\n",
    "\n",
    "print('R2 scores:', scores)\n",
    "print('Mean R2 score:', scores.mean())\n"
   ]
  },
  {
   "cell_type": "markdown",
   "id": "fa93b813-5727-426f-bc98-3e1ff5ba6b0d",
   "metadata": {},
   "source": [
    "У даному випадку використовуємо 5-fold крос-валідацію та метрику R2 для оцінки якості моделі.\n",
    "Метод cross_val_score() повертає серію значень R2 для кожної ітерації крос-валідації та середнє значення R2 для всіх ітерацій.\n",
    "Так отримаємо більш точну оцінку якості моделі і переконаємось, що наша модель і не перенавчена і недонавчена."
   ]
  }
 ],
 "metadata": {
  "kernelspec": {
   "display_name": "Python 3 (ipykernel)",
   "language": "python",
   "name": "python3"
  },
  "language_info": {
   "codemirror_mode": {
    "name": "ipython",
    "version": 3
   },
   "file_extension": ".py",
   "mimetype": "text/x-python",
   "name": "python",
   "nbconvert_exporter": "python",
   "pygments_lexer": "ipython3",
   "version": "3.9.13"
  }
 },
 "nbformat": 4,
 "nbformat_minor": 5
}
